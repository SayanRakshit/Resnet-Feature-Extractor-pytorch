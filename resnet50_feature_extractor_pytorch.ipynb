{
 "cells": [
  {
   "cell_type": "code",
   "execution_count": 3,
   "id": "94adea34",
   "metadata": {},
   "outputs": [],
   "source": [
    "import torch\n",
    "import torch.nn as nn\n",
    "import torchvision.models as models\n",
    "import torchvision.transforms as transforms\n",
    "from torch.autograd import Variable\n",
    "from PIL import Image\n",
    "\n",
    "import torch\n",
    "import torch.nn as nn\n",
    "from torch.autograd import Variable\n",
    "from torchvision import models, transforms\n",
    "from PIL import Image\n",
    "import numpy as np\n",
    "import os, glob"
   ]
  },
  {
   "cell_type": "code",
   "execution_count": 2,
   "id": "6ad1b2c1",
   "metadata": {},
   "outputs": [
    {
     "name": "stderr",
     "output_type": "stream",
     "text": [
      "/home/sayan/anaconda3/envs/pytorch_gpu/lib/python3.9/site-packages/torchvision/transforms/transforms.py:317: UserWarning: The use of the transforms.Scale transform is deprecated, please use transforms.Resize instead.\n",
      "  warnings.warn(\"The use of the transforms.Scale transform is deprecated, \" +\n"
     ]
    }
   ],
   "source": [
    "model = models.resnet50(pretrained=True)\n",
    "\n",
    "layer = model._modules.get('avgpool')\n",
    "\n",
    "model.eval()\n",
    "\n",
    "scaler = transforms.Scale((224, 224))\n",
    "normalize = transforms.Normalize(mean=[0.485, 0.456, 0.406], std=[0.229, 0.224, 0.225])\n",
    "to_tensor = transforms.ToTensor()\n",
    "\n",
    "def get_vector(image_name):\n",
    "    img = Image.open(image_name)\n",
    "    t_img = Variable(normalize(to_tensor(scaler(img))).unsqueeze(0))\n",
    "    my_embedding = torch.zeros(1,2048,1,1)\n",
    "    def copy_data(m, i, o):\n",
    "        my_embedding.copy_(o.data)\n",
    "    h = layer.register_forward_hook(copy_data)\n",
    "    model(t_img)\n",
    "    h.remove()\n",
    "    return my_embedding.numpy()"
   ]
  },
  {
   "cell_type": "code",
   "execution_count": 4,
   "id": "6fe643d4",
   "metadata": {},
   "outputs": [],
   "source": [
    "data_dir = '/home/sayan/Desktop/code_2023/RS_data/PatternNet'"
   ]
  },
  {
   "cell_type": "code",
   "execution_count": null,
   "id": "2fac466b",
   "metadata": {},
   "outputs": [],
   "source": [
    "# list of image files and corresponding labels\n",
    "files_list = []\n",
    "label_list = []\n",
    "x = os.walk(data_dir, topdown=False)\n",
    "j=-1\n",
    "for path,d,filelist in sorted(x):\n",
    "    \n",
    "    for filename in sorted(filelist):\n",
    "        file_glob = os.path.join(path, filename)\n",
    "        files_list.extend(glob.glob(file_glob))\n",
    "        label_list.append(j)\n",
    "\n",
    "    j=j+1\n"
   ]
  },
  {
   "cell_type": "code",
   "execution_count": null,
   "id": "924ace55",
   "metadata": {},
   "outputs": [],
   "source": [
    "data=np.zeros([len(files_list), 2049])\n",
    "print(len(files_list))"
   ]
  },
  {
   "cell_type": "code",
   "execution_count": null,
   "id": "2a51dc71",
   "metadata": {},
   "outputs": [],
   "source": [
    "# feature generation\n",
    "for i in range(len(files_list)):\n",
    "    vec=get_vector(files_list[i])\n",
    "    vec=vec.flatten()\n",
    "    data[i,:-1]=vec\n",
    "    data[i,-1]=label_list[i]\n",
    "    print(i)"
   ]
  },
  {
   "cell_type": "code",
   "execution_count": null,
   "id": "1b66f8f0",
   "metadata": {},
   "outputs": [],
   "source": [
    "c = np.savetxt('/home/user/Desktop/desk/dataset/image/rs_image/im256*256/PatternNet_closed.csv', data, delimiter =', ') "
   ]
  },
  {
   "cell_type": "code",
   "execution_count": null,
   "id": "a17797b8",
   "metadata": {},
   "outputs": [],
   "source": [
    "sw=np.loadtxt(open('/home/user/Desktop/desk/dataset/image/rs_image/im256*256/PatternNet_closed.csv', \"rb\"), delimiter=\",\")"
   ]
  }
 ],
 "metadata": {
  "kernelspec": {
   "display_name": "Python 3 (ipykernel)",
   "language": "python",
   "name": "python3"
  },
  "language_info": {
   "codemirror_mode": {
    "name": "ipython",
    "version": 3
   },
   "file_extension": ".py",
   "mimetype": "text/x-python",
   "name": "python",
   "nbconvert_exporter": "python",
   "pygments_lexer": "ipython3",
   "version": "3.9.7"
  }
 },
 "nbformat": 4,
 "nbformat_minor": 5
}
